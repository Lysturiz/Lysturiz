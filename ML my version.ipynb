{
 "cells": [
  {
   "cell_type": "code",
   "execution_count": 1,
   "metadata": {},
   "outputs": [],
   "source": [
    "import pandas as pd\n",
    "import torch\n",
    "import torch.nn as nn\n",
    "import torch.optim as optim\n",
    "import joblib\n",
    "from sklearn.model_selection import train_test_split\n",
    "from sklearn.preprocessing import MultiLabelBinarizer\n",
    "\n"
   ]
  },
  {
   "cell_type": "code",
   "execution_count": 2,
   "metadata": {},
   "outputs": [],
   "source": [
    "df = pd.read_csv(r\"C:\\Users\\Luis Ysturiz\\Downloads\\Machine Learning model\\Phase 2\\One Hot Columns(CPT, REV, SEX) (1).csv\")\n"
   ]
  },
  {
   "cell_type": "code",
   "execution_count": 3,
   "metadata": {},
   "outputs": [],
   "source": [
    "df.drop('CaseID', axis=1, inplace=True) # type: ignore"
   ]
  },
  {
   "cell_type": "code",
   "execution_count": 4,
   "metadata": {},
   "outputs": [
    {
     "data": {
      "text/html": [
       "<div>\n",
       "<style scoped>\n",
       "    .dataframe tbody tr th:only-of-type {\n",
       "        vertical-align: middle;\n",
       "    }\n",
       "\n",
       "    .dataframe tbody tr th {\n",
       "        vertical-align: top;\n",
       "    }\n",
       "\n",
       "    .dataframe thead th {\n",
       "        text-align: right;\n",
       "    }\n",
       "</style>\n",
       "<table border=\"1\" class=\"dataframe\">\n",
       "  <thead>\n",
       "    <tr style=\"text-align: right;\">\n",
       "      <th></th>\n",
       "      <th>CPTCodes</th>\n",
       "      <th>RevenueCodes</th>\n",
       "      <th>PatientGender</th>\n",
       "      <th>ClaimReturned</th>\n",
       "    </tr>\n",
       "  </thead>\n",
       "  <tbody>\n",
       "    <tr>\n",
       "      <th>0</th>\n",
       "      <td>11102</td>\n",
       "      <td>NaN</td>\n",
       "      <td>M</td>\n",
       "      <td>1</td>\n",
       "    </tr>\n",
       "    <tr>\n",
       "      <th>1</th>\n",
       "      <td>96127, 99396</td>\n",
       "      <td>NaN</td>\n",
       "      <td>F</td>\n",
       "      <td>1</td>\n",
       "    </tr>\n",
       "    <tr>\n",
       "      <th>2</th>\n",
       "      <td>81003, 90471, 90714, 99396</td>\n",
       "      <td>NaN</td>\n",
       "      <td>M</td>\n",
       "      <td>1</td>\n",
       "    </tr>\n",
       "    <tr>\n",
       "      <th>3</th>\n",
       "      <td>90460, 90461, 90647, 90670, 90723, 99391</td>\n",
       "      <td>NaN</td>\n",
       "      <td>M</td>\n",
       "      <td>1</td>\n",
       "    </tr>\n",
       "    <tr>\n",
       "      <th>4</th>\n",
       "      <td>80050, 82248, 83010, 84165</td>\n",
       "      <td>NaN</td>\n",
       "      <td>F</td>\n",
       "      <td>1</td>\n",
       "    </tr>\n",
       "    <tr>\n",
       "      <th>...</th>\n",
       "      <td>...</td>\n",
       "      <td>...</td>\n",
       "      <td>...</td>\n",
       "      <td>...</td>\n",
       "    </tr>\n",
       "    <tr>\n",
       "      <th>12192</th>\n",
       "      <td>88374</td>\n",
       "      <td>0</td>\n",
       "      <td>F</td>\n",
       "      <td>0</td>\n",
       "    </tr>\n",
       "    <tr>\n",
       "      <th>12193</th>\n",
       "      <td>88374</td>\n",
       "      <td>0</td>\n",
       "      <td>F</td>\n",
       "      <td>0</td>\n",
       "    </tr>\n",
       "    <tr>\n",
       "      <th>12194</th>\n",
       "      <td>70480</td>\n",
       "      <td>0</td>\n",
       "      <td>F</td>\n",
       "      <td>0</td>\n",
       "    </tr>\n",
       "    <tr>\n",
       "      <th>12195</th>\n",
       "      <td>88305</td>\n",
       "      <td>0</td>\n",
       "      <td>M</td>\n",
       "      <td>0</td>\n",
       "    </tr>\n",
       "    <tr>\n",
       "      <th>12196</th>\n",
       "      <td>88305</td>\n",
       "      <td>0</td>\n",
       "      <td>M</td>\n",
       "      <td>0</td>\n",
       "    </tr>\n",
       "  </tbody>\n",
       "</table>\n",
       "<p>12197 rows × 4 columns</p>\n",
       "</div>"
      ],
      "text/plain": [
       "                                       CPTCodes RevenueCodes PatientGender  \\\n",
       "0                                         11102          NaN             M   \n",
       "1                                  96127, 99396          NaN             F   \n",
       "2                    81003, 90471, 90714, 99396          NaN             M   \n",
       "3      90460, 90461, 90647, 90670, 90723, 99391          NaN             M   \n",
       "4                    80050, 82248, 83010, 84165          NaN             F   \n",
       "...                                         ...          ...           ...   \n",
       "12192                                     88374            0             F   \n",
       "12193                                     88374            0             F   \n",
       "12194                                     70480            0             F   \n",
       "12195                                     88305            0             M   \n",
       "12196                                     88305            0             M   \n",
       "\n",
       "       ClaimReturned  \n",
       "0                  1  \n",
       "1                  1  \n",
       "2                  1  \n",
       "3                  1  \n",
       "4                  1  \n",
       "...              ...  \n",
       "12192              0  \n",
       "12193              0  \n",
       "12194              0  \n",
       "12195              0  \n",
       "12196              0  \n",
       "\n",
       "[12197 rows x 4 columns]"
      ]
     },
     "execution_count": 4,
     "metadata": {},
     "output_type": "execute_result"
    }
   ],
   "source": [
    "df"
   ]
  },
  {
   "cell_type": "code",
   "execution_count": 5,
   "metadata": {},
   "outputs": [],
   "source": [
    "df['PatientGender'] = df['PatientGender'].str.lower().str.strip()"
   ]
  },
  {
   "cell_type": "code",
   "execution_count": 6,
   "metadata": {},
   "outputs": [
    {
     "data": {
      "text/html": [
       "<div>\n",
       "<style scoped>\n",
       "    .dataframe tbody tr th:only-of-type {\n",
       "        vertical-align: middle;\n",
       "    }\n",
       "\n",
       "    .dataframe tbody tr th {\n",
       "        vertical-align: top;\n",
       "    }\n",
       "\n",
       "    .dataframe thead th {\n",
       "        text-align: right;\n",
       "    }\n",
       "</style>\n",
       "<table border=\"1\" class=\"dataframe\">\n",
       "  <thead>\n",
       "    <tr style=\"text-align: right;\">\n",
       "      <th></th>\n",
       "      <th>CPTCodes</th>\n",
       "      <th>RevenueCodes</th>\n",
       "      <th>PatientGender</th>\n",
       "      <th>ClaimReturned</th>\n",
       "    </tr>\n",
       "  </thead>\n",
       "  <tbody>\n",
       "    <tr>\n",
       "      <th>0</th>\n",
       "      <td>11102</td>\n",
       "      <td>NaN</td>\n",
       "      <td>m</td>\n",
       "      <td>1</td>\n",
       "    </tr>\n",
       "    <tr>\n",
       "      <th>1</th>\n",
       "      <td>96127, 99396</td>\n",
       "      <td>NaN</td>\n",
       "      <td>f</td>\n",
       "      <td>1</td>\n",
       "    </tr>\n",
       "    <tr>\n",
       "      <th>2</th>\n",
       "      <td>81003, 90471, 90714, 99396</td>\n",
       "      <td>NaN</td>\n",
       "      <td>m</td>\n",
       "      <td>1</td>\n",
       "    </tr>\n",
       "    <tr>\n",
       "      <th>3</th>\n",
       "      <td>90460, 90461, 90647, 90670, 90723, 99391</td>\n",
       "      <td>NaN</td>\n",
       "      <td>m</td>\n",
       "      <td>1</td>\n",
       "    </tr>\n",
       "    <tr>\n",
       "      <th>4</th>\n",
       "      <td>80050, 82248, 83010, 84165</td>\n",
       "      <td>NaN</td>\n",
       "      <td>f</td>\n",
       "      <td>1</td>\n",
       "    </tr>\n",
       "    <tr>\n",
       "      <th>...</th>\n",
       "      <td>...</td>\n",
       "      <td>...</td>\n",
       "      <td>...</td>\n",
       "      <td>...</td>\n",
       "    </tr>\n",
       "    <tr>\n",
       "      <th>95</th>\n",
       "      <td>87481, 87486, 87491, 87541, 87581, 87591, 8763...</td>\n",
       "      <td>NaN</td>\n",
       "      <td>f</td>\n",
       "      <td>1</td>\n",
       "    </tr>\n",
       "    <tr>\n",
       "      <th>96</th>\n",
       "      <td>J0180, J3490, S9357</td>\n",
       "      <td>NaN</td>\n",
       "      <td>m</td>\n",
       "      <td>1</td>\n",
       "    </tr>\n",
       "    <tr>\n",
       "      <th>97</th>\n",
       "      <td>J0180, J3490, S9357</td>\n",
       "      <td>NaN</td>\n",
       "      <td>m</td>\n",
       "      <td>1</td>\n",
       "    </tr>\n",
       "    <tr>\n",
       "      <th>98</th>\n",
       "      <td>93005, J2270, J7030</td>\n",
       "      <td>0636, 0730</td>\n",
       "      <td>f</td>\n",
       "      <td>1</td>\n",
       "    </tr>\n",
       "    <tr>\n",
       "      <th>99</th>\n",
       "      <td>J2704, J3490</td>\n",
       "      <td>0636, 0637, 0710</td>\n",
       "      <td>f</td>\n",
       "      <td>1</td>\n",
       "    </tr>\n",
       "  </tbody>\n",
       "</table>\n",
       "<p>100 rows × 4 columns</p>\n",
       "</div>"
      ],
      "text/plain": [
       "                                             CPTCodes      RevenueCodes  \\\n",
       "0                                               11102               NaN   \n",
       "1                                        96127, 99396               NaN   \n",
       "2                          81003, 90471, 90714, 99396               NaN   \n",
       "3            90460, 90461, 90647, 90670, 90723, 99391               NaN   \n",
       "4                          80050, 82248, 83010, 84165               NaN   \n",
       "..                                                ...               ...   \n",
       "95  87481, 87486, 87491, 87541, 87581, 87591, 8763...               NaN   \n",
       "96                                J0180, J3490, S9357               NaN   \n",
       "97                                J0180, J3490, S9357               NaN   \n",
       "98                                93005, J2270, J7030        0636, 0730   \n",
       "99                                       J2704, J3490  0636, 0637, 0710   \n",
       "\n",
       "   PatientGender  ClaimReturned  \n",
       "0              m              1  \n",
       "1              f              1  \n",
       "2              m              1  \n",
       "3              m              1  \n",
       "4              f              1  \n",
       "..           ...            ...  \n",
       "95             f              1  \n",
       "96             m              1  \n",
       "97             m              1  \n",
       "98             f              1  \n",
       "99             f              1  \n",
       "\n",
       "[100 rows x 4 columns]"
      ]
     },
     "execution_count": 6,
     "metadata": {},
     "output_type": "execute_result"
    }
   ],
   "source": [
    "df.head(100)"
   ]
  },
  {
   "cell_type": "code",
   "execution_count": 7,
   "metadata": {},
   "outputs": [],
   "source": [
    "df['CPTCodeList'] = df['CPTCodes'].dropna().apply(lambda x: x.split(\", \"))\n",
    "df['RevCodeList'] = df['RevenueCodes'].dropna().apply(lambda x: x.split(\", \"))"
   ]
  },
  {
   "cell_type": "code",
   "execution_count": 8,
   "metadata": {},
   "outputs": [],
   "source": [
    "mlb_cpt = MultiLabelBinarizer()\n",
    "mlb_rev = MultiLabelBinarizer()"
   ]
  },
  {
   "cell_type": "code",
   "execution_count": 9,
   "metadata": {},
   "outputs": [],
   "source": [
    "one_hot_cpt_codes = mlb_cpt.fit_transform(df['CPTCodeList'].dropna())\n",
    "one_hot_rev_codes = mlb_rev.fit_transform(df['RevCodeList'].dropna())"
   ]
  },
  {
   "cell_type": "code",
   "execution_count": 10,
   "metadata": {},
   "outputs": [],
   "source": [
    "one_hot_cpt_df = pd.DataFrame(one_hot_cpt_codes, columns=mlb_cpt.classes_, dtype=float)\n",
    "one_hot_rev_df = pd.DataFrame(one_hot_rev_codes, columns=mlb_rev.classes_, dtype=float)"
   ]
  },
  {
   "cell_type": "code",
   "execution_count": 11,
   "metadata": {},
   "outputs": [],
   "source": [
    "df = df.join(one_hot_cpt_df, how='left', rsuffix='_CPT').join(one_hot_rev_df,how='left',rsuffix='_REV').fillna(0)"
   ]
  },
  {
   "cell_type": "code",
   "execution_count": 12,
   "metadata": {},
   "outputs": [],
   "source": [
    "df.drop(['CPTCodes','CPTCodeList','RevenueCodes', 'RevCodeList'], axis=1, inplace=True)"
   ]
  },
  {
   "cell_type": "code",
   "execution_count": 13,
   "metadata": {},
   "outputs": [],
   "source": [
    "gender_dummies = pd.get_dummies(df['PatientGender'], prefix='Gender', dtype=float)\n",
    "df.drop(['PatientGender'], axis=1, inplace=True)\n",
    "df = pd.concat([df, gender_dummies], axis=1)"
   ]
  },
  {
   "cell_type": "code",
   "execution_count": 14,
   "metadata": {},
   "outputs": [],
   "source": [
    "try:\n",
    "    X = torch.tensor(df.drop('ClaimReturned', axis=1).values, dtype=torch.float32)\n",
    "    y = torch.tensor(df['ClaimReturned'].values, dtype=torch.float32)\n",
    "except TypeError as e:\n",
    "    print(e)\n",
    "    for column in df.columns:\n",
    "        try:\n",
    "            torch.tensor(df[column].values, dtype=torch.float32)\n",
    "        except TypeError as te:\n",
    "            print(f'Error converting {column}: {te}')"
   ]
  },
  {
   "cell_type": "code",
   "execution_count": 15,
   "metadata": {},
   "outputs": [],
   "source": [
    "X_train, X_test, y_train,y_test = train_test_split(X,y, test_size=0.2, random_state = 42)\n",
    "X_train, X_val, y_train, y_val = train_test_split(X_train, y_train, test_size=0.25, random_state=42)"
   ]
  },
  {
   "cell_type": "code",
   "execution_count": 16,
   "metadata": {},
   "outputs": [],
   "source": [
    "class Net(nn.Module):\n",
    "    def __init__(self, num_features):\n",
    "        super(Net, self).__init__()\n",
    "        self.fc1 = nn.Linear(num_features, 50)\n",
    "        self.dropout1 = nn.Dropout(0)\n",
    "        self.fc2 = nn.Linear(50, 20)\n",
    "        self.dropout2 = nn.Dropout(0)\n",
    "        self.fc3 = nn.Linear(20, 1)\n",
    "        self.sigmoid = nn.Sigmoid()\n",
    "\n",
    "    def forward(self, x):\n",
    "        x = torch.relu(self.fc1(x))\n",
    "        x = self.dropout1(x)\n",
    "        x = torch.relu(self.fc2(x))\n",
    "        x = self.dropout2(x)\n",
    "        x = self.sigmoid(self.fc3(x))\n",
    "        return x"
   ]
  },
  {
   "cell_type": "code",
   "execution_count": 17,
   "metadata": {},
   "outputs": [],
   "source": [
    "model = Net(num_features=X.shape[1])"
   ]
  },
  {
   "cell_type": "code",
   "execution_count": 18,
   "metadata": {},
   "outputs": [],
   "source": [
    "criterion = nn.BCELoss()\n",
    "optimizer = optim.Adam(model.parameters(), lr=0.001, weight_decay=0.001)"
   ]
  },
  {
   "cell_type": "code",
   "execution_count": 19,
   "metadata": {},
   "outputs": [
    {
     "name": "stdout",
     "output_type": "stream",
     "text": [
      "Epoch[100/1000], Training Loss: 0.2726, Validation Loss: 0.2912\n",
      "Epoch[200/1000], Training Loss: 0.1166, Validation Loss: 0.1553\n",
      "Epoch[300/1000], Training Loss: 0.1025, Validation Loss: 0.1464\n",
      "Epoch[400/1000], Training Loss: 0.0962, Validation Loss: 0.1417\n",
      "Epoch[500/1000], Training Loss: 0.0922, Validation Loss: 0.1381\n",
      "Epoch[600/1000], Training Loss: 0.0894, Validation Loss: 0.1355\n",
      "Epoch[700/1000], Training Loss: 0.0873, Validation Loss: 0.1335\n",
      "Epoch[800/1000], Training Loss: 0.0854, Validation Loss: 0.1316\n",
      "Epoch[900/1000], Training Loss: 0.0835, Validation Loss: 0.1302\n",
      "Epoch[1000/1000], Training Loss: 0.0819, Validation Loss: 0.1291\n"
     ]
    }
   ],
   "source": [
    "for epoch in range(1000):\n",
    "    model.train()\n",
    "    outputs_train = model(X_train)\n",
    "    loss_train = criterion(outputs_train.squeeze(), y_train)\n",
    "\n",
    "    optimizer.zero_grad()\n",
    "    loss_train.backward()\n",
    "    optimizer.step()\n",
    "\n",
    "    model.eval()\n",
    "    with torch.no_grad():\n",
    "        outputs_val = model(X_val)\n",
    "        loss_val = criterion(outputs_val.squeeze(), y_val)\n",
    "\n",
    "    if(epoch+1) % 100 == 0:\n",
    "        print(f'Epoch[{epoch+1}/1000], Training Loss: {loss_train.item():.4f}, Validation Loss: {loss_val.item():.4f}')"
   ]
  },
  {
   "cell_type": "code",
   "execution_count": 20,
   "metadata": {},
   "outputs": [
    {
     "name": "stdout",
     "output_type": "stream",
     "text": [
      "Test Accuracy: 0.9430\n"
     ]
    }
   ],
   "source": [
    "\n",
    "model.eval()\n",
    "with torch.no_grad():\n",
    "    predicted_test = model(X_test) > 0.5\n",
    "    accuracy = (predicted_test.squeeze().float() == y_test).float().mean()\n",
    "    print(f'Test Accuracy: {accuracy:.4f}')\n",
    "\n",
    "    joblib.dump(mlb_cpt, 'mlb_cpt.jotlib')\n",
    "    joblib.dump(mlb_rev, 'mlb_rev.joblib')\n",
    "    torch.save(model.state_dict(), 'trained model.pth')\n",
    "\n"
   ]
  },
  {
   "cell_type": "code",
   "execution_count": null,
   "metadata": {},
   "outputs": [],
   "source": []
  }
 ],
 "metadata": {
  "kernelspec": {
   "display_name": "base",
   "language": "python",
   "name": "python3"
  },
  "language_info": {
   "codemirror_mode": {
    "name": "ipython",
    "version": 3
   },
   "file_extension": ".py",
   "mimetype": "text/x-python",
   "name": "python",
   "nbconvert_exporter": "python",
   "pygments_lexer": "ipython3",
   "version": "3.11.5"
  }
 },
 "nbformat": 4,
 "nbformat_minor": 2
}
